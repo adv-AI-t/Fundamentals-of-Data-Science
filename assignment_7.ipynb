{
 "cells": [
  {
   "cell_type": "code",
   "execution_count": 1,
   "id": "c75e7f02-82e5-4936-8f59-3021f68a8bc1",
   "metadata": {},
   "outputs": [],
   "source": [
    "import math, re, nltk"
   ]
  },
  {
   "cell_type": "code",
   "execution_count": 30,
   "id": "ed62adb8-dd8a-495c-acc5-4ed7e76ba87a",
   "metadata": {},
   "outputs": [
    {
     "name": "stderr",
     "output_type": "stream",
     "text": [
      "[nltk_data] Downloading package punkt to /Users/advait/nltk_data...\n",
      "[nltk_data]   Package punkt is already up-to-date!\n",
      "[nltk_data] Downloading package stopwords to\n",
      "[nltk_data]     /Users/advait/nltk_data...\n",
      "[nltk_data]   Package stopwords is already up-to-date!\n",
      "[nltk_data] Downloading package averaged_perceptron_tagger to\n",
      "[nltk_data]     /Users/advait/nltk_data...\n",
      "[nltk_data]   Package averaged_perceptron_tagger is already up-to-\n",
      "[nltk_data]       date!\n",
      "[nltk_data] Downloading package wordnet to /Users/advait/nltk_data...\n"
     ]
    },
    {
     "data": {
      "text/plain": [
       "True"
      ]
     },
     "execution_count": 30,
     "metadata": {},
     "output_type": "execute_result"
    }
   ],
   "source": [
    "import ssl\n",
    "import nltk\n",
    "\n",
    "try:\n",
    "    _create_unverified_https_context = ssl._create_unverified_context\n",
    "except AttributeError:\n",
    "    pass  \n",
    "else:\n",
    "    ssl._create_default_https_context = _create_unverified_https_context\n",
    "\n",
    "nltk.download('punkt')\n",
    "nltk.download('stopwords')\n",
    "nltk.download('averaged_perceptron_tagger')\n",
    "nltk.download('wordnet')"
   ]
  },
  {
   "cell_type": "code",
   "execution_count": 2,
   "id": "a5fc6951-d41d-4fbd-82be-2f8b8e7bdfe9",
   "metadata": {},
   "outputs": [],
   "source": [
    "with open(\"docs/doc1.txt\", \"r\") as file:\n",
    "    doc1 = file.read()\n",
    "    \n",
    "with open(\"docs/doc2.txt\", \"r\") as file:\n",
    "    doc2 = file.read()"
   ]
  },
  {
   "cell_type": "code",
   "execution_count": 3,
   "id": "b708339b-6a69-41ca-993d-eb5e6f79317f",
   "metadata": {},
   "outputs": [
    {
     "data": {
      "text/plain": [
       "'The evolution from manual to automatic transmission marks a significant advancement in automotive engineering, driven by the pursuit of convenience, safety, and efficiency. Initially, manual transmissions dominated the industry due to their mechanical simplicity and cost-effectiveness, requiring drivers to manually engage gears using a clutch and gear stick. However, as automotive technology progressed through the 20th century, automatic transmissions began to gain traction, offering smoother gear shifts without driver input. The introduction of hydraulic torque converters and later, electronically controlled transmissions, significantly improved performance and fuel economy. By the early 21st century, automatic transmissions had become standard in many markets, especially in North America, with further innovations such as continuously variable transmissions (CVTs) and dual-clutch systems enhancing driving experience and efficiency. This shift reflects broader trends in consumer demand for ease of use and the automotive industry’s ongoing focus on automation and technological refinement.\\n\\nModern automobiles feature several types of transmissions, each with unique design philosophies and performance characteristics. The main types include traditional automatic transmissions (torque converter-based), continuously variable transmissions (CVTs), automated manual transmissions (AMTs), and dual-clutch transmissions (DCTs). German automakers such as BMW, Mercedes-Benz, and Audi have long championed dual-clutch and high-performance torque converter automatics, focusing on precision engineering and responsiveness. '"
      ]
     },
     "execution_count": 3,
     "metadata": {},
     "output_type": "execute_result"
    }
   ],
   "source": [
    "doc1"
   ]
  },
  {
   "cell_type": "code",
   "execution_count": 4,
   "id": "34cbb7c3-e8f9-4852-bb98-e41677282b7a",
   "metadata": {},
   "outputs": [
    {
     "data": {
      "text/plain": [
       "'The German DCTs, notably the DSG (Direkt-Schalt-Getriebe) used by Volkswagen and the M-DCT from BMW, are renowned for delivering rapid gear shifts with minimal lag, particularly in performance vehicles.\\n\\nOn the other hand, Korean manufacturers like Hyundai and Kia have made significant strides by developing in-house DCTs and smart automatic systems, prioritizing smoothness and fuel efficiency. Hyundai’s Smartstream IVT and 8-speed DCT exemplify the brand’s balance between affordability, efficiency, and technological innovation. While earlier iterations of Korean DCTs faced criticisms for jerkiness at low speeds, recent improvements have closed much of the performance gap with German counterparts.\\n\\nIn the race for the most optimal automatic transmission—defined by low shift lag, high efficiency, and user comfort—German transmissions generally maintain a lead, especially in performance-oriented applications. However, Korean brands are rapidly catching up, offering transmission systems that are increasingly refined and competitive, particularly in the mass-market and hybrid segments. The contest remains dynamic, with German precision still favored for sheer performance, but Korean innovation excelling in cost-effective and increasingly smooth everyday driving experiences.'"
      ]
     },
     "execution_count": 4,
     "metadata": {},
     "output_type": "execute_result"
    }
   ],
   "source": [
    "doc2"
   ]
  },
  {
   "cell_type": "code",
   "execution_count": 9,
   "id": "65f1aff2-1902-4a92-a6c1-b8534e82f975",
   "metadata": {},
   "outputs": [],
   "source": [
    "word_tokens = nltk.word_tokenize(doc1)"
   ]
  },
  {
   "cell_type": "code",
   "execution_count": 11,
   "id": "8367efc2-0d38-4468-ba4a-80ebeb7f2b40",
   "metadata": {},
   "outputs": [
    {
     "name": "stdout",
     "output_type": "stream",
     "text": [
      "['The', 'evolution', 'from', 'manual', 'to', 'automatic', 'transmission', 'marks', 'a', 'significant', 'advancement', 'in', 'automotive', 'engineering', ',', 'driven', 'by', 'the', 'pursuit', 'of']\n"
     ]
    }
   ],
   "source": [
    "print(word_tokens[:20])"
   ]
  },
  {
   "cell_type": "code",
   "execution_count": 17,
   "id": "22e598d4-fc15-4288-b963-220e43b4e108",
   "metadata": {},
   "outputs": [],
   "source": [
    "stop_words = set(nltk.corpus.stopwords.words('english'))"
   ]
  },
  {
   "cell_type": "code",
   "execution_count": 21,
   "id": "107ded06-de69-4bec-929b-3bf86abe2ad1",
   "metadata": {},
   "outputs": [],
   "source": [
    "word_tokens = [token for token in word_tokens if token not in stop_words]"
   ]
  },
  {
   "cell_type": "code",
   "execution_count": 22,
   "id": "411fcc03-7d3a-4e52-8064-b8b0b1eb7ced",
   "metadata": {},
   "outputs": [
    {
     "name": "stdout",
     "output_type": "stream",
     "text": [
      "['The', 'evolution', 'manual', 'automatic', 'transmission', 'marks', 'significant', 'advancement', 'automotive', 'engineering', ',', 'driven', 'pursuit', 'convenience', ',', 'safety', ',', 'efficiency', '.', 'Initially']\n"
     ]
    }
   ],
   "source": [
    "print(word_tokens[:20])"
   ]
  },
  {
   "cell_type": "code",
   "execution_count": 25,
   "id": "6cc10aa5-8d87-4579-911f-44dcd8262957",
   "metadata": {},
   "outputs": [],
   "source": [
    "tagged = nltk.pos_tag(word_tokens)"
   ]
  },
  {
   "cell_type": "code",
   "execution_count": 26,
   "id": "50630cca-1497-4eb5-9d15-ddb92a7aaf35",
   "metadata": {},
   "outputs": [
    {
     "name": "stdout",
     "output_type": "stream",
     "text": [
      "[('The', 'DT'), ('evolution', 'NN'), ('manual', 'JJ'), ('automatic', 'JJ'), ('transmission', 'NN'), ('marks', 'NNS'), ('significant', 'JJ'), ('advancement', 'JJ'), ('automotive', 'JJ'), ('engineering', 'NN'), (',', ','), ('driven', 'JJ'), ('pursuit', 'NN'), ('convenience', 'NN'), (',', ','), ('safety', 'NN'), (',', ','), ('efficiency', 'NN'), ('.', '.'), ('Initially', 'RB')]\n"
     ]
    }
   ],
   "source": [
    "print(tagged[:20])"
   ]
  },
  {
   "cell_type": "code",
   "execution_count": 31,
   "id": "72fd5674-2abb-439d-a33f-d1fb04c6fc96",
   "metadata": {},
   "outputs": [],
   "source": [
    "lemmatizer = nltk.stem.WordNetLemmatizer()"
   ]
  },
  {
   "cell_type": "code",
   "execution_count": 32,
   "id": "3b819e98-3fe9-44cc-a250-13a8ba95f52f",
   "metadata": {},
   "outputs": [],
   "source": [
    "lemmatized_tokens = [lemmatizer.lemmatize(token) for token in word_tokens]"
   ]
  },
  {
   "cell_type": "code",
   "execution_count": 34,
   "id": "3e884d3f-bc70-427a-b374-9e4c2c1c8a28",
   "metadata": {},
   "outputs": [
    {
     "name": "stdout",
     "output_type": "stream",
     "text": [
      "['The', 'evolution', 'manual', 'automatic', 'transmission', 'mark', 'significant', 'advancement', 'automotive', 'engineering', ',', 'driven', 'pursuit', 'convenience', ',', 'safety', ',', 'efficiency', '.', 'Initially', ',', 'manual', 'transmission', 'dominated', 'industry', 'due', 'mechanical', 'simplicity', 'cost-effectiveness', ',', 'requiring', 'driver', 'manually', 'engage', 'gear', 'using', 'clutch', 'gear', 'stick', '.', 'However', ',', 'automotive', 'technology', 'progressed', '20th', 'century', ',', 'automatic', 'transmission', 'began', 'gain', 'traction', ',', 'offering', 'smoother', 'gear', 'shift', 'without', 'driver', 'input', '.', 'The', 'introduction', 'hydraulic', 'torque', 'converter', 'later', ',', 'electronically', 'controlled', 'transmission', ',', 'significantly', 'improved', 'performance', 'fuel', 'economy', '.', 'By', 'early', '21st', 'century', ',', 'automatic', 'transmission', 'become', 'standard', 'many', 'market', ',', 'especially', 'North', 'America', ',', 'innovation', 'continuously', 'variable', 'transmission', '(']\n"
     ]
    }
   ],
   "source": [
    "print(lemmatized_tokens[:100])"
   ]
  },
  {
   "cell_type": "code",
   "execution_count": 35,
   "id": "2ab0c00b-236d-4ecb-9274-28c6d8797d4d",
   "metadata": {},
   "outputs": [],
   "source": [
    "stemmer = nltk.stem.PorterStemmer()"
   ]
  },
  {
   "cell_type": "code",
   "execution_count": 36,
   "id": "2442564c-3143-40ec-aa87-5c35cedcb87e",
   "metadata": {},
   "outputs": [],
   "source": [
    "stemmed_tokens = [stemmer.stem(token) for token in word_tokens]"
   ]
  },
  {
   "cell_type": "code",
   "execution_count": 37,
   "id": "6d78eae2-b414-4306-a153-d5001972fd08",
   "metadata": {},
   "outputs": [
    {
     "name": "stdout",
     "output_type": "stream",
     "text": [
      "['the', 'evolut', 'manual', 'automat', 'transmiss', 'mark', 'signific', 'advanc', 'automot', 'engin', ',', 'driven', 'pursuit', 'conveni', ',', 'safeti', ',', 'effici', '.', 'initi']\n"
     ]
    }
   ],
   "source": [
    "print(stemmed_tokens[:20])"
   ]
  },
  {
   "cell_type": "code",
   "execution_count": 48,
   "id": "340d57b4-2b3a-453e-a709-47037797dbc1",
   "metadata": {},
   "outputs": [],
   "source": [
    "def compute_tf(doc):\n",
    "    occurances = dict()\n",
    "    word_tokens = nltk.word_tokenize(doc)\n",
    "    for word in word_tokens:\n",
    "        if(occurances.get(word) is None):\n",
    "            occurances[word] = 1\n",
    "        else:\n",
    "            occurances[word] += 1\n",
    "    tf = dict()\n",
    "    total_words = len(occurances)\n",
    "    for word, count in occurances.items():\n",
    "        tf[word] = count/total_words\n",
    "    return tf"
   ]
  },
  {
   "cell_type": "code",
   "execution_count": 51,
   "id": "16d92569-e802-4c88-9ef2-8baddfebe716",
   "metadata": {},
   "outputs": [
    {
     "name": "stdout",
     "output_type": "stream",
     "text": [
      "{'The': 0.020689655172413793, 'evolution': 0.006896551724137931, 'from': 0.006896551724137931, 'manual': 0.020689655172413793, 'to': 0.027586206896551724, 'automatic': 0.027586206896551724, 'transmission': 0.006896551724137931, 'marks': 0.006896551724137931, 'a': 0.013793103448275862, 'significant': 0.006896551724137931, 'advancement': 0.006896551724137931, 'in': 0.027586206896551724, 'automotive': 0.020689655172413793, 'engineering': 0.013793103448275862, ',': 0.13793103448275862, 'driven': 0.006896551724137931, 'by': 0.006896551724137931, 'the': 0.034482758620689655, 'pursuit': 0.006896551724137931, 'of': 0.027586206896551724, 'convenience': 0.006896551724137931, 'safety': 0.006896551724137931, 'and': 0.09655172413793103, 'efficiency': 0.013793103448275862, '.': 0.06206896551724138, 'Initially': 0.006896551724137931, 'transmissions': 0.06896551724137931, 'dominated': 0.006896551724137931, 'industry': 0.013793103448275862, 'due': 0.006896551724137931, 'their': 0.006896551724137931, 'mechanical': 0.006896551724137931, 'simplicity': 0.006896551724137931, 'cost-effectiveness': 0.006896551724137931, 'requiring': 0.006896551724137931, 'drivers': 0.006896551724137931, 'manually': 0.006896551724137931, 'engage': 0.006896551724137931, 'gears': 0.006896551724137931, 'using': 0.006896551724137931, 'clutch': 0.006896551724137931, 'gear': 0.013793103448275862, 'stick': 0.006896551724137931, 'However': 0.006896551724137931, 'as': 0.020689655172413793, 'technology': 0.006896551724137931, 'progressed': 0.006896551724137931, 'through': 0.006896551724137931, '20th': 0.006896551724137931, 'century': 0.013793103448275862, 'began': 0.006896551724137931, 'gain': 0.006896551724137931, 'traction': 0.006896551724137931, 'offering': 0.006896551724137931, 'smoother': 0.006896551724137931, 'shifts': 0.006896551724137931, 'without': 0.006896551724137931, 'driver': 0.006896551724137931, 'input': 0.006896551724137931, 'introduction': 0.006896551724137931, 'hydraulic': 0.006896551724137931, 'torque': 0.020689655172413793, 'converters': 0.006896551724137931, 'later': 0.006896551724137931, 'electronically': 0.006896551724137931, 'controlled': 0.006896551724137931, 'significantly': 0.006896551724137931, 'improved': 0.006896551724137931, 'performance': 0.013793103448275862, 'fuel': 0.006896551724137931, 'economy': 0.006896551724137931, 'By': 0.006896551724137931, 'early': 0.006896551724137931, '21st': 0.006896551724137931, 'had': 0.006896551724137931, 'become': 0.006896551724137931, 'standard': 0.006896551724137931, 'many': 0.006896551724137931, 'markets': 0.006896551724137931, 'especially': 0.006896551724137931, 'North': 0.006896551724137931, 'America': 0.006896551724137931, 'with': 0.013793103448275862, 'further': 0.006896551724137931, 'innovations': 0.006896551724137931, 'such': 0.013793103448275862, 'continuously': 0.013793103448275862, 'variable': 0.013793103448275862, '(': 0.034482758620689655, 'CVTs': 0.013793103448275862, ')': 0.034482758620689655, 'dual-clutch': 0.020689655172413793, 'systems': 0.006896551724137931, 'enhancing': 0.006896551724137931, 'driving': 0.006896551724137931, 'experience': 0.006896551724137931, 'This': 0.006896551724137931, 'shift': 0.006896551724137931, 'reflects': 0.006896551724137931, 'broader': 0.006896551724137931, 'trends': 0.006896551724137931, 'consumer': 0.006896551724137931, 'demand': 0.006896551724137931, 'for': 0.006896551724137931, 'ease': 0.006896551724137931, 'use': 0.006896551724137931, '’': 0.006896551724137931, 's': 0.006896551724137931, 'ongoing': 0.006896551724137931, 'focus': 0.006896551724137931, 'on': 0.013793103448275862, 'automation': 0.006896551724137931, 'technological': 0.006896551724137931, 'refinement': 0.006896551724137931, 'Modern': 0.006896551724137931, 'automobiles': 0.006896551724137931, 'feature': 0.006896551724137931, 'several': 0.006896551724137931, 'types': 0.013793103448275862, 'each': 0.006896551724137931, 'unique': 0.006896551724137931, 'design': 0.006896551724137931, 'philosophies': 0.006896551724137931, 'characteristics': 0.006896551724137931, 'main': 0.006896551724137931, 'include': 0.006896551724137931, 'traditional': 0.006896551724137931, 'converter-based': 0.006896551724137931, 'automated': 0.006896551724137931, 'AMTs': 0.006896551724137931, 'DCTs': 0.006896551724137931, 'German': 0.006896551724137931, 'automakers': 0.006896551724137931, 'BMW': 0.006896551724137931, 'Mercedes-Benz': 0.006896551724137931, 'Audi': 0.006896551724137931, 'have': 0.006896551724137931, 'long': 0.006896551724137931, 'championed': 0.006896551724137931, 'high-performance': 0.006896551724137931, 'converter': 0.006896551724137931, 'automatics': 0.006896551724137931, 'focusing': 0.006896551724137931, 'precision': 0.006896551724137931, 'responsiveness': 0.006896551724137931}\n"
     ]
    }
   ],
   "source": [
    "tf_doc1 = compute_tf(doc1)\n",
    "print(tf_doc1)"
   ]
  },
  {
   "cell_type": "code",
   "execution_count": 52,
   "id": "626e149b-609a-4395-8d76-3329ee4a89cc",
   "metadata": {},
   "outputs": [
    {
     "name": "stdout",
     "output_type": "stream",
     "text": [
      "{'The': 0.015748031496062992, 'German': 0.023622047244094488, 'DCTs': 0.023622047244094488, ',': 0.12598425196850394, 'notably': 0.007874015748031496, 'the': 0.06299212598425197, 'DSG': 0.007874015748031496, '(': 0.007874015748031496, 'Direkt-Schalt-Getriebe': 0.007874015748031496, ')': 0.007874015748031496, 'used': 0.007874015748031496, 'by': 0.023622047244094488, 'Volkswagen': 0.007874015748031496, 'and': 0.07874015748031496, 'M-DCT': 0.007874015748031496, 'from': 0.007874015748031496, 'BMW': 0.007874015748031496, 'are': 0.023622047244094488, 'renowned': 0.007874015748031496, 'for': 0.031496062992125984, 'delivering': 0.007874015748031496, 'rapid': 0.007874015748031496, 'gear': 0.007874015748031496, 'shifts': 0.007874015748031496, 'with': 0.023622047244094488, 'minimal': 0.007874015748031496, 'lag': 0.015748031496062992, 'particularly': 0.015748031496062992, 'in': 0.031496062992125984, 'performance': 0.023622047244094488, 'vehicles': 0.007874015748031496, '.': 0.05511811023622047, 'On': 0.007874015748031496, 'other': 0.007874015748031496, 'hand': 0.007874015748031496, 'Korean': 0.031496062992125984, 'manufacturers': 0.007874015748031496, 'like': 0.007874015748031496, 'Hyundai': 0.015748031496062992, 'Kia': 0.007874015748031496, 'have': 0.015748031496062992, 'made': 0.007874015748031496, 'significant': 0.007874015748031496, 'strides': 0.007874015748031496, 'developing': 0.007874015748031496, 'in-house': 0.007874015748031496, 'smart': 0.007874015748031496, 'automatic': 0.015748031496062992, 'systems': 0.015748031496062992, 'prioritizing': 0.007874015748031496, 'smoothness': 0.007874015748031496, 'fuel': 0.007874015748031496, 'efficiency': 0.023622047244094488, '’': 0.015748031496062992, 's': 0.015748031496062992, 'Smartstream': 0.007874015748031496, 'IVT': 0.007874015748031496, '8-speed': 0.007874015748031496, 'DCT': 0.007874015748031496, 'exemplify': 0.007874015748031496, 'brand': 0.007874015748031496, 'balance': 0.007874015748031496, 'between': 0.007874015748031496, 'affordability': 0.007874015748031496, 'technological': 0.007874015748031496, 'innovation': 0.015748031496062992, 'While': 0.007874015748031496, 'earlier': 0.007874015748031496, 'iterations': 0.007874015748031496, 'of': 0.015748031496062992, 'faced': 0.007874015748031496, 'criticisms': 0.007874015748031496, 'jerkiness': 0.007874015748031496, 'at': 0.007874015748031496, 'low': 0.015748031496062992, 'speeds': 0.007874015748031496, 'recent': 0.007874015748031496, 'improvements': 0.007874015748031496, 'closed': 0.007874015748031496, 'much': 0.007874015748031496, 'gap': 0.007874015748031496, 'counterparts': 0.007874015748031496, 'In': 0.007874015748031496, 'race': 0.007874015748031496, 'most': 0.007874015748031496, 'optimal': 0.007874015748031496, 'transmission—defined': 0.007874015748031496, 'shift': 0.007874015748031496, 'high': 0.007874015748031496, 'user': 0.007874015748031496, 'comfort—German': 0.007874015748031496, 'transmissions': 0.007874015748031496, 'generally': 0.007874015748031496, 'maintain': 0.007874015748031496, 'a': 0.007874015748031496, 'lead': 0.007874015748031496, 'especially': 0.007874015748031496, 'performance-oriented': 0.007874015748031496, 'applications': 0.007874015748031496, 'However': 0.007874015748031496, 'brands': 0.007874015748031496, 'rapidly': 0.007874015748031496, 'catching': 0.007874015748031496, 'up': 0.007874015748031496, 'offering': 0.007874015748031496, 'transmission': 0.007874015748031496, 'that': 0.007874015748031496, 'increasingly': 0.015748031496062992, 'refined': 0.007874015748031496, 'competitive': 0.007874015748031496, 'mass-market': 0.007874015748031496, 'hybrid': 0.007874015748031496, 'segments': 0.007874015748031496, 'contest': 0.007874015748031496, 'remains': 0.007874015748031496, 'dynamic': 0.007874015748031496, 'precision': 0.007874015748031496, 'still': 0.007874015748031496, 'favored': 0.007874015748031496, 'sheer': 0.007874015748031496, 'but': 0.007874015748031496, 'excelling': 0.007874015748031496, 'cost-effective': 0.007874015748031496, 'smooth': 0.007874015748031496, 'everyday': 0.007874015748031496, 'driving': 0.007874015748031496, 'experiences': 0.007874015748031496}\n"
     ]
    }
   ],
   "source": [
    "tf_doc2 = compute_tf(doc2)\n",
    "print(tf_doc2)"
   ]
  },
  {
   "cell_type": "code",
   "execution_count": 53,
   "id": "320e065a-fb30-43a2-b504-7df3eaef8177",
   "metadata": {},
   "outputs": [],
   "source": [
    "def compute_idf():\n",
    "    N = 2\n",
    "    idf = dict()\n",
    "    doc1_tokens = nltk.word_tokenize(doc1)\n",
    "    doc2_tokens = nltk.word_tokenize(doc2)\n",
    "    combined_tokens = doc1_tokens + doc2_tokens\n",
    "    for token in combined_tokens:\n",
    "        f = 0\n",
    "        if token in doc1_tokens: f+=1\n",
    "        if token in doc2_tokens: f+=1\n",
    "        idf[token] = math.log(N/f)\n",
    "    return idf"
   ]
  },
  {
   "cell_type": "code",
   "execution_count": 54,
   "id": "c1f3975e-0390-4897-b3ae-2e52863232b5",
   "metadata": {},
   "outputs": [
    {
     "name": "stdout",
     "output_type": "stream",
     "text": [
      "{'The': 0.0, 'evolution': 0.6931471805599453, 'from': 0.0, 'manual': 0.6931471805599453, 'to': 0.6931471805599453, 'automatic': 0.0, 'transmission': 0.0, 'marks': 0.6931471805599453, 'a': 0.0, 'significant': 0.0, 'advancement': 0.6931471805599453, 'in': 0.0, 'automotive': 0.6931471805599453, 'engineering': 0.6931471805599453, ',': 0.0, 'driven': 0.6931471805599453, 'by': 0.0, 'the': 0.0, 'pursuit': 0.6931471805599453, 'of': 0.0, 'convenience': 0.6931471805599453, 'safety': 0.6931471805599453, 'and': 0.0, 'efficiency': 0.0, '.': 0.0, 'Initially': 0.6931471805599453, 'transmissions': 0.0, 'dominated': 0.6931471805599453, 'industry': 0.6931471805599453, 'due': 0.6931471805599453, 'their': 0.6931471805599453, 'mechanical': 0.6931471805599453, 'simplicity': 0.6931471805599453, 'cost-effectiveness': 0.6931471805599453, 'requiring': 0.6931471805599453, 'drivers': 0.6931471805599453, 'manually': 0.6931471805599453, 'engage': 0.6931471805599453, 'gears': 0.6931471805599453, 'using': 0.6931471805599453, 'clutch': 0.6931471805599453, 'gear': 0.0, 'stick': 0.6931471805599453, 'However': 0.0, 'as': 0.6931471805599453, 'technology': 0.6931471805599453, 'progressed': 0.6931471805599453, 'through': 0.6931471805599453, '20th': 0.6931471805599453, 'century': 0.6931471805599453, 'began': 0.6931471805599453, 'gain': 0.6931471805599453, 'traction': 0.6931471805599453, 'offering': 0.0, 'smoother': 0.6931471805599453, 'shifts': 0.0, 'without': 0.6931471805599453, 'driver': 0.6931471805599453, 'input': 0.6931471805599453, 'introduction': 0.6931471805599453, 'hydraulic': 0.6931471805599453, 'torque': 0.6931471805599453, 'converters': 0.6931471805599453, 'later': 0.6931471805599453, 'electronically': 0.6931471805599453, 'controlled': 0.6931471805599453, 'significantly': 0.6931471805599453, 'improved': 0.6931471805599453, 'performance': 0.0, 'fuel': 0.0, 'economy': 0.6931471805599453, 'By': 0.6931471805599453, 'early': 0.6931471805599453, '21st': 0.6931471805599453, 'had': 0.6931471805599453, 'become': 0.6931471805599453, 'standard': 0.6931471805599453, 'many': 0.6931471805599453, 'markets': 0.6931471805599453, 'especially': 0.0, 'North': 0.6931471805599453, 'America': 0.6931471805599453, 'with': 0.0, 'further': 0.6931471805599453, 'innovations': 0.6931471805599453, 'such': 0.6931471805599453, 'continuously': 0.6931471805599453, 'variable': 0.6931471805599453, '(': 0.0, 'CVTs': 0.6931471805599453, ')': 0.0, 'dual-clutch': 0.6931471805599453, 'systems': 0.0, 'enhancing': 0.6931471805599453, 'driving': 0.0, 'experience': 0.6931471805599453, 'This': 0.6931471805599453, 'shift': 0.0, 'reflects': 0.6931471805599453, 'broader': 0.6931471805599453, 'trends': 0.6931471805599453, 'consumer': 0.6931471805599453, 'demand': 0.6931471805599453, 'for': 0.0, 'ease': 0.6931471805599453, 'use': 0.6931471805599453, '’': 0.0, 's': 0.0, 'ongoing': 0.6931471805599453, 'focus': 0.6931471805599453, 'on': 0.6931471805599453, 'automation': 0.6931471805599453, 'technological': 0.0, 'refinement': 0.6931471805599453, 'Modern': 0.6931471805599453, 'automobiles': 0.6931471805599453, 'feature': 0.6931471805599453, 'several': 0.6931471805599453, 'types': 0.6931471805599453, 'each': 0.6931471805599453, 'unique': 0.6931471805599453, 'design': 0.6931471805599453, 'philosophies': 0.6931471805599453, 'characteristics': 0.6931471805599453, 'main': 0.6931471805599453, 'include': 0.6931471805599453, 'traditional': 0.6931471805599453, 'converter-based': 0.6931471805599453, 'automated': 0.6931471805599453, 'AMTs': 0.6931471805599453, 'DCTs': 0.0, 'German': 0.0, 'automakers': 0.6931471805599453, 'BMW': 0.0, 'Mercedes-Benz': 0.6931471805599453, 'Audi': 0.6931471805599453, 'have': 0.0, 'long': 0.6931471805599453, 'championed': 0.6931471805599453, 'high-performance': 0.6931471805599453, 'converter': 0.6931471805599453, 'automatics': 0.6931471805599453, 'focusing': 0.6931471805599453, 'precision': 0.0, 'responsiveness': 0.6931471805599453, 'notably': 0.6931471805599453, 'DSG': 0.6931471805599453, 'Direkt-Schalt-Getriebe': 0.6931471805599453, 'used': 0.6931471805599453, 'Volkswagen': 0.6931471805599453, 'M-DCT': 0.6931471805599453, 'are': 0.6931471805599453, 'renowned': 0.6931471805599453, 'delivering': 0.6931471805599453, 'rapid': 0.6931471805599453, 'minimal': 0.6931471805599453, 'lag': 0.6931471805599453, 'particularly': 0.6931471805599453, 'vehicles': 0.6931471805599453, 'On': 0.6931471805599453, 'other': 0.6931471805599453, 'hand': 0.6931471805599453, 'Korean': 0.6931471805599453, 'manufacturers': 0.6931471805599453, 'like': 0.6931471805599453, 'Hyundai': 0.6931471805599453, 'Kia': 0.6931471805599453, 'made': 0.6931471805599453, 'strides': 0.6931471805599453, 'developing': 0.6931471805599453, 'in-house': 0.6931471805599453, 'smart': 0.6931471805599453, 'prioritizing': 0.6931471805599453, 'smoothness': 0.6931471805599453, 'Smartstream': 0.6931471805599453, 'IVT': 0.6931471805599453, '8-speed': 0.6931471805599453, 'DCT': 0.6931471805599453, 'exemplify': 0.6931471805599453, 'brand': 0.6931471805599453, 'balance': 0.6931471805599453, 'between': 0.6931471805599453, 'affordability': 0.6931471805599453, 'innovation': 0.6931471805599453, 'While': 0.6931471805599453, 'earlier': 0.6931471805599453, 'iterations': 0.6931471805599453, 'faced': 0.6931471805599453, 'criticisms': 0.6931471805599453, 'jerkiness': 0.6931471805599453, 'at': 0.6931471805599453, 'low': 0.6931471805599453, 'speeds': 0.6931471805599453, 'recent': 0.6931471805599453, 'improvements': 0.6931471805599453, 'closed': 0.6931471805599453, 'much': 0.6931471805599453, 'gap': 0.6931471805599453, 'counterparts': 0.6931471805599453, 'In': 0.6931471805599453, 'race': 0.6931471805599453, 'most': 0.6931471805599453, 'optimal': 0.6931471805599453, 'transmission—defined': 0.6931471805599453, 'high': 0.6931471805599453, 'user': 0.6931471805599453, 'comfort—German': 0.6931471805599453, 'generally': 0.6931471805599453, 'maintain': 0.6931471805599453, 'lead': 0.6931471805599453, 'performance-oriented': 0.6931471805599453, 'applications': 0.6931471805599453, 'brands': 0.6931471805599453, 'rapidly': 0.6931471805599453, 'catching': 0.6931471805599453, 'up': 0.6931471805599453, 'that': 0.6931471805599453, 'increasingly': 0.6931471805599453, 'refined': 0.6931471805599453, 'competitive': 0.6931471805599453, 'mass-market': 0.6931471805599453, 'hybrid': 0.6931471805599453, 'segments': 0.6931471805599453, 'contest': 0.6931471805599453, 'remains': 0.6931471805599453, 'dynamic': 0.6931471805599453, 'still': 0.6931471805599453, 'favored': 0.6931471805599453, 'sheer': 0.6931471805599453, 'but': 0.6931471805599453, 'excelling': 0.6931471805599453, 'cost-effective': 0.6931471805599453, 'smooth': 0.6931471805599453, 'everyday': 0.6931471805599453, 'experiences': 0.6931471805599453}\n"
     ]
    }
   ],
   "source": [
    "idf = compute_idf()\n",
    "print(idf)"
   ]
  },
  {
   "cell_type": "code",
   "execution_count": 58,
   "id": "4ded1446-ffb9-4804-881c-8ed5da4c0177",
   "metadata": {},
   "outputs": [],
   "source": [
    "doc1_tfidf = []\n",
    "for token in doc1_tokens:\n",
    "    doc1_tfidf.append(tf_doc1[token] * idf[token])\n",
    "doc2_tfidf = []\n",
    "for token in doc2_tokens:\n",
    "    doc2_tfidf.append(tf_doc2[token] * idf[token])"
   ]
  },
  {
   "cell_type": "code",
   "execution_count": 61,
   "id": "0a1c68a5-091c-444d-b7fa-0e7e8a986ff8",
   "metadata": {},
   "outputs": [
    {
     "name": "stdout",
     "output_type": "stream",
     "text": [
      "[0.0, 0.004780325383172036, 0.0, 0.01434097614951611, 0.019121301532688144, 0.0, 0.0, 0.004780325383172036, 0.0, 0.0, 0.004780325383172036, 0.0, 0.01434097614951611, 0.009560650766344072, 0.0, 0.004780325383172036, 0.0, 0.0, 0.004780325383172036, 0.0]\n"
     ]
    }
   ],
   "source": [
    "print(doc1_tfidf[:20])"
   ]
  },
  {
   "cell_type": "code",
   "execution_count": 62,
   "id": "22be6ad8-cd95-4fff-a902-87f087abffdd",
   "metadata": {},
   "outputs": [
    {
     "name": "stdout",
     "output_type": "stream",
     "text": [
      "[0.0, 0.0, 0.0, 0.0, 0.00545785181543264, 0.0, 0.00545785181543264, 0.0, 0.00545785181543264, 0.0, 0.00545785181543264, 0.0, 0.00545785181543264, 0.0, 0.0, 0.00545785181543264, 0.0, 0.0, 0.0, 0.01637355544629792]\n"
     ]
    }
   ],
   "source": [
    "print(doc2_tfidf[:20])"
   ]
  },
  {
   "cell_type": "code",
   "execution_count": null,
   "id": "0911ba23-26ca-4d70-abef-f5eac0db9995",
   "metadata": {},
   "outputs": [],
   "source": []
  }
 ],
 "metadata": {
  "kernelspec": {
   "display_name": "Python 3 (ipykernel)",
   "language": "python",
   "name": "python3"
  },
  "language_info": {
   "codemirror_mode": {
    "name": "ipython",
    "version": 3
   },
   "file_extension": ".py",
   "mimetype": "text/x-python",
   "name": "python",
   "nbconvert_exporter": "python",
   "pygments_lexer": "ipython3",
   "version": "3.11.1"
  }
 },
 "nbformat": 4,
 "nbformat_minor": 5
}
